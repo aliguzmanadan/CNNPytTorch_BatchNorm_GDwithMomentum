{
 "cells": [
  {
   "cell_type": "markdown",
   "metadata": {},
   "source": [
    "<h1 align=center><font size=5>Digit Recognition. CNN in PyTorch. </font></h1>"
   ]
  },
  {
   "cell_type": "code",
   "execution_count": 1,
   "metadata": {},
   "outputs": [],
   "source": [
    "#Needed libraries and modules\n",
    "import pandas as pd                                  # data processing, reading CSV file, dealing with dataframes etc\n",
    "import numpy as np                                   # linear algebra functionalities \n",
    "import matplotlib.pyplot as plt                      # visualization library\n",
    "\n",
    "#Modeling\n",
    "from sklearn.model_selection import train_test_split, GridSearchCV, cross_val_score\n",
    "\n",
    "import math \n",
    "import time\n",
    "import multiprocessing\n",
    "import warnings\n",
    "warnings.filterwarnings(\"ignore\")"
   ]
  },
  {
   "cell_type": "code",
   "execution_count": 2,
   "metadata": {},
   "outputs": [],
   "source": [
    "import torch\n",
    "from torch import nn\n",
    "from torch.utils.data import Dataset, DataLoader\n",
    "from torchvision import datasets\n",
    "from torchvision.transforms import ToTensor, Lambda, Compose\n",
    "from torchvision import transforms\n"
   ]
  },
  {
   "cell_type": "markdown",
   "metadata": {},
   "source": [
    "### Table of Contents\n",
    "\n",
    "* [1. Loading Data](#Section1)\n",
    "    * [1.1 From cvs files to dataframes](#SubSection_1_1)\n",
    "    * [1.2 Dataset class and transforms](#SubSection_1_2)\n",
    "    * [1.3 Train and validation sets. Visualization](#SubSection_1_3)\n",
    "* [2. CNN with Batch Normalization](#Section2)\n",
    "* [3. Training the model](#Section3)\n",
    "* [4 Analyzing results](#Section_4)\n",
    "* [5 Predictions on test set](#Section_5)"
   ]
  },
  {
   "cell_type": "markdown",
   "metadata": {},
   "source": [
    " # 1. Loading Data <a class=\"anchor\" id=\"Section1\"></a>"
   ]
  },
  {
   "cell_type": "markdown",
   "metadata": {},
   "source": [
    "We want to be able to train our model on a hardware accelerator like the GPU, \n",
    "if it is available. Let's check to see if \n",
    "\"torch.cuda\" <https://pytorch.org/docs/stable/notes/cuda.html> is available, else we \n",
    "continue to use the CPU. "
   ]
  },
  {
   "cell_type": "code",
   "execution_count": 3,
   "metadata": {},
   "outputs": [
    {
     "name": "stdout",
     "output_type": "stream",
     "text": [
      "Using cpu device\n"
     ]
    }
   ],
   "source": [
    "device = 'cuda' if torch.cuda.is_available() else 'cpu'\n",
    "print('Using {} device'.format(device))"
   ]
  },
  {
   "cell_type": "markdown",
   "metadata": {},
   "source": [
    "### 1.1 Loading data from cvs files into data frames<a class=\"anchor\" id=\"SubSection_1_1\"></a> "
   ]
  },
  {
   "cell_type": "code",
   "execution_count": 4,
   "metadata": {},
   "outputs": [],
   "source": [
    "#Loading training and test set to dataframes\n",
    "path_train = 'train.csv'\n",
    "path_test = 'test.csv'\n",
    "\n",
    "df_train = pd.read_csv(path_train)\n",
    "df_test = pd.read_csv(path_test)"
   ]
  },
  {
   "cell_type": "code",
   "execution_count": 5,
   "metadata": {},
   "outputs": [
    {
     "data": {
      "text/html": [
       "<div>\n",
       "<style scoped>\n",
       "    .dataframe tbody tr th:only-of-type {\n",
       "        vertical-align: middle;\n",
       "    }\n",
       "\n",
       "    .dataframe tbody tr th {\n",
       "        vertical-align: top;\n",
       "    }\n",
       "\n",
       "    .dataframe thead th {\n",
       "        text-align: right;\n",
       "    }\n",
       "</style>\n",
       "<table border=\"1\" class=\"dataframe\">\n",
       "  <thead>\n",
       "    <tr style=\"text-align: right;\">\n",
       "      <th></th>\n",
       "      <th>label</th>\n",
       "      <th>pixel0</th>\n",
       "      <th>pixel1</th>\n",
       "      <th>pixel2</th>\n",
       "      <th>pixel3</th>\n",
       "      <th>pixel4</th>\n",
       "      <th>pixel5</th>\n",
       "      <th>pixel6</th>\n",
       "      <th>pixel7</th>\n",
       "      <th>pixel8</th>\n",
       "      <th>...</th>\n",
       "      <th>pixel774</th>\n",
       "      <th>pixel775</th>\n",
       "      <th>pixel776</th>\n",
       "      <th>pixel777</th>\n",
       "      <th>pixel778</th>\n",
       "      <th>pixel779</th>\n",
       "      <th>pixel780</th>\n",
       "      <th>pixel781</th>\n",
       "      <th>pixel782</th>\n",
       "      <th>pixel783</th>\n",
       "    </tr>\n",
       "  </thead>\n",
       "  <tbody>\n",
       "    <tr>\n",
       "      <th>0</th>\n",
       "      <td>1</td>\n",
       "      <td>0</td>\n",
       "      <td>0</td>\n",
       "      <td>0</td>\n",
       "      <td>0</td>\n",
       "      <td>0</td>\n",
       "      <td>0</td>\n",
       "      <td>0</td>\n",
       "      <td>0</td>\n",
       "      <td>0</td>\n",
       "      <td>...</td>\n",
       "      <td>0</td>\n",
       "      <td>0</td>\n",
       "      <td>0</td>\n",
       "      <td>0</td>\n",
       "      <td>0</td>\n",
       "      <td>0</td>\n",
       "      <td>0</td>\n",
       "      <td>0</td>\n",
       "      <td>0</td>\n",
       "      <td>0</td>\n",
       "    </tr>\n",
       "    <tr>\n",
       "      <th>1</th>\n",
       "      <td>0</td>\n",
       "      <td>0</td>\n",
       "      <td>0</td>\n",
       "      <td>0</td>\n",
       "      <td>0</td>\n",
       "      <td>0</td>\n",
       "      <td>0</td>\n",
       "      <td>0</td>\n",
       "      <td>0</td>\n",
       "      <td>0</td>\n",
       "      <td>...</td>\n",
       "      <td>0</td>\n",
       "      <td>0</td>\n",
       "      <td>0</td>\n",
       "      <td>0</td>\n",
       "      <td>0</td>\n",
       "      <td>0</td>\n",
       "      <td>0</td>\n",
       "      <td>0</td>\n",
       "      <td>0</td>\n",
       "      <td>0</td>\n",
       "    </tr>\n",
       "    <tr>\n",
       "      <th>2</th>\n",
       "      <td>1</td>\n",
       "      <td>0</td>\n",
       "      <td>0</td>\n",
       "      <td>0</td>\n",
       "      <td>0</td>\n",
       "      <td>0</td>\n",
       "      <td>0</td>\n",
       "      <td>0</td>\n",
       "      <td>0</td>\n",
       "      <td>0</td>\n",
       "      <td>...</td>\n",
       "      <td>0</td>\n",
       "      <td>0</td>\n",
       "      <td>0</td>\n",
       "      <td>0</td>\n",
       "      <td>0</td>\n",
       "      <td>0</td>\n",
       "      <td>0</td>\n",
       "      <td>0</td>\n",
       "      <td>0</td>\n",
       "      <td>0</td>\n",
       "    </tr>\n",
       "    <tr>\n",
       "      <th>3</th>\n",
       "      <td>4</td>\n",
       "      <td>0</td>\n",
       "      <td>0</td>\n",
       "      <td>0</td>\n",
       "      <td>0</td>\n",
       "      <td>0</td>\n",
       "      <td>0</td>\n",
       "      <td>0</td>\n",
       "      <td>0</td>\n",
       "      <td>0</td>\n",
       "      <td>...</td>\n",
       "      <td>0</td>\n",
       "      <td>0</td>\n",
       "      <td>0</td>\n",
       "      <td>0</td>\n",
       "      <td>0</td>\n",
       "      <td>0</td>\n",
       "      <td>0</td>\n",
       "      <td>0</td>\n",
       "      <td>0</td>\n",
       "      <td>0</td>\n",
       "    </tr>\n",
       "    <tr>\n",
       "      <th>4</th>\n",
       "      <td>0</td>\n",
       "      <td>0</td>\n",
       "      <td>0</td>\n",
       "      <td>0</td>\n",
       "      <td>0</td>\n",
       "      <td>0</td>\n",
       "      <td>0</td>\n",
       "      <td>0</td>\n",
       "      <td>0</td>\n",
       "      <td>0</td>\n",
       "      <td>...</td>\n",
       "      <td>0</td>\n",
       "      <td>0</td>\n",
       "      <td>0</td>\n",
       "      <td>0</td>\n",
       "      <td>0</td>\n",
       "      <td>0</td>\n",
       "      <td>0</td>\n",
       "      <td>0</td>\n",
       "      <td>0</td>\n",
       "      <td>0</td>\n",
       "    </tr>\n",
       "  </tbody>\n",
       "</table>\n",
       "<p>5 rows × 785 columns</p>\n",
       "</div>"
      ],
      "text/plain": [
       "   label  pixel0  pixel1  pixel2  pixel3  pixel4  pixel5  pixel6  pixel7  \\\n",
       "0      1       0       0       0       0       0       0       0       0   \n",
       "1      0       0       0       0       0       0       0       0       0   \n",
       "2      1       0       0       0       0       0       0       0       0   \n",
       "3      4       0       0       0       0       0       0       0       0   \n",
       "4      0       0       0       0       0       0       0       0       0   \n",
       "\n",
       "   pixel8  ...  pixel774  pixel775  pixel776  pixel777  pixel778  pixel779  \\\n",
       "0       0  ...         0         0         0         0         0         0   \n",
       "1       0  ...         0         0         0         0         0         0   \n",
       "2       0  ...         0         0         0         0         0         0   \n",
       "3       0  ...         0         0         0         0         0         0   \n",
       "4       0  ...         0         0         0         0         0         0   \n",
       "\n",
       "   pixel780  pixel781  pixel782  pixel783  \n",
       "0         0         0         0         0  \n",
       "1         0         0         0         0  \n",
       "2         0         0         0         0  \n",
       "3         0         0         0         0  \n",
       "4         0         0         0         0  \n",
       "\n",
       "[5 rows x 785 columns]"
      ]
     },
     "execution_count": 5,
     "metadata": {},
     "output_type": "execute_result"
    }
   ],
   "source": [
    "df_train.head()"
   ]
  },
  {
   "cell_type": "markdown",
   "metadata": {},
   "source": [
    "We convert the data to numpy. We normalize the data to avoid the vanishing gradient problem when training without usign batchnormalzation"
   ]
  },
  {
   "cell_type": "code",
   "execution_count": 6,
   "metadata": {},
   "outputs": [],
   "source": [
    "#Training data\n",
    "X = df_train.iloc[:, 1:].to_numpy() /255\n",
    "Y = df_train.iloc[:, 0].to_numpy()\n",
    "\n",
    "#Train set & validation sets\n",
    "X_train, X_val, Y_train, Y_val = train_test_split(X, Y, test_size=0.1, random_state=1)\n",
    "\n",
    "#Test set \n",
    "X_test = df_test.to_numpy() / 255\n"
   ]
  },
  {
   "cell_type": "code",
   "execution_count": 7,
   "metadata": {},
   "outputs": [
    {
     "name": "stdout",
     "output_type": "stream",
     "text": [
      "Shape of train dataset:  (37800, 784)\n",
      "Shape of validation dataset:  (4200, 784)\n",
      "Shape of test dataset:  (28000, 784)\n"
     ]
    }
   ],
   "source": [
    "print('Shape of train dataset: ', X_train.shape)\n",
    "print('Shape of validation dataset: ', X_val.shape)\n",
    "print('Shape of test dataset: ', X_test.shape)"
   ]
  },
  {
   "cell_type": "markdown",
   "metadata": {},
   "source": [
    "### 1.2 Dataset class and transforms<a class=\"anchor\" id=\"SubSection_1_2\"></a> "
   ]
  },
  {
   "cell_type": "markdown",
   "metadata": {},
   "source": [
    "Datset class"
   ]
  },
  {
   "cell_type": "code",
   "execution_count": 8,
   "metadata": {},
   "outputs": [],
   "source": [
    "class Dataset(Dataset):\n",
    "    \n",
    "    def __init__(self, x, y = None, transform = None):\n",
    "        self.x = x\n",
    "        self.y = y\n",
    "        self.transform = transform\n",
    "        self.lenght = self.x.shape[0]\n",
    "        \n",
    "    def __len__(self):\n",
    "        return self.lenght\n",
    "    \n",
    "    def __getitem__(self, idx):\n",
    "        image = self.x[idx, :]\n",
    "        if self.transform:\n",
    "            image = self.transform(image)\n",
    "        label = int(self.y[idx])\n",
    "        return image, label"
   ]
  },
  {
   "cell_type": "markdown",
   "metadata": {},
   "source": [
    "Transforms"
   ]
  },
  {
   "cell_type": "code",
   "execution_count": 9,
   "metadata": {},
   "outputs": [],
   "source": [
    "class Numpy_to_ImageTensor_Reshape(object):\n",
    "    '''\n",
    "    This is a transform object, that transforms a given numpy array into a tensor with dimensions especified by dims.\n",
    "    '''\n",
    "    # Constructor\n",
    "    def __init__(self, dims):\n",
    "        self.dims = dims\n",
    "        \n",
    "    # Executor\n",
    "    def __call__(self, sample):\n",
    "        image = torch.from_numpy(sample).type(torch.FloatTensor)\n",
    "        image = image.view(1,self.dims[0], self.dims[1])\n",
    "        return image"
   ]
  },
  {
   "cell_type": "code",
   "execution_count": 10,
   "metadata": {},
   "outputs": [],
   "source": [
    "IMAGE_SIZE = 28\n",
    "composed = transforms.Compose([Numpy_to_ImageTensor_Reshape([28,28]), transforms.Resize((IMAGE_SIZE,IMAGE_SIZE))])"
   ]
  },
  {
   "cell_type": "markdown",
   "metadata": {},
   "source": [
    "Train and test set"
   ]
  },
  {
   "cell_type": "code",
   "execution_count": 11,
   "metadata": {},
   "outputs": [],
   "source": [
    "train_set = Dataset(x=X_train, y=Y_train, transform=composed)"
   ]
  },
  {
   "cell_type": "code",
   "execution_count": 12,
   "metadata": {},
   "outputs": [],
   "source": [
    "validation_set = Dataset(x=X_val, y=Y_val, transform=composed)"
   ]
  },
  {
   "cell_type": "code",
   "execution_count": 13,
   "metadata": {},
   "outputs": [
    {
     "name": "stdout",
     "output_type": "stream",
     "text": [
      "Size of train set:  37800\n",
      "Size of validation set:  4200\n"
     ]
    }
   ],
   "source": [
    "print('Size of train set: ', len(train_set))\n",
    "print('Size of validation set: ', len(validation_set))"
   ]
  },
  {
   "cell_type": "markdown",
   "metadata": {},
   "source": [
    "Function to print images:"
   ]
  },
  {
   "cell_type": "code",
   "execution_count": 14,
   "metadata": {},
   "outputs": [],
   "source": [
    "def show_data(data_sample):\n",
    "    plt.imshow(data_sample[0].view(IMAGE_SIZE,IMAGE_SIZE), cmap='gray')\n",
    "    plt.title('y = '+ str(data_sample[1]))"
   ]
  },
  {
   "cell_type": "code",
   "execution_count": 15,
   "metadata": {},
   "outputs": [
    {
     "data": {
      "image/png": "[encoded data removed]",
      "text/plain": [
       "<Figure size 432x288 with 1 Axes>"
      ]
     },
     "metadata": {
      "needs_background": "light"
     },
     "output_type": "display_data"
    }
   ],
   "source": [
    "show_data(train_set[9])"
   ]
  },
  {
   "cell_type": "code",
   "execution_count": 16,
   "metadata": {},
   "outputs": [
    {
     "data": {
      "image/png": "[encoded data removed]",
      "text/plain": [
       "<Figure size 432x288 with 1 Axes>"
      ]
     },
     "metadata": {
      "needs_background": "light"
     },
     "output_type": "display_data"
    }
   ],
   "source": [
    "show_data(validation_set[156])"
   ]
  },
  {
   "cell_type": "markdown",
   "metadata": {},
   "source": [
    " # 2. CNN with Batch Normalization <a class=\"anchor\" id=\"Section2\"></a>"
   ]
  },
  {
   "cell_type": "code",
   "execution_count": 17,
   "metadata": {},
   "outputs": [],
   "source": [
    "class CNN_BatchNorm(nn.Module):\n",
    "     \n",
    "    # Contructor\n",
    "    def __init__(self, Conv_Layers, FC_Layers, BatchNorm = False):\n",
    "        super(CNN_BatchNorm, self).__init__()\n",
    "        \n",
    "        self.Conv = nn.ModuleList()\n",
    "        self.FC = nn.ModuleList()\n",
    "        \n",
    "        #Building convolution layers\n",
    "        for layer in Conv_Layers:\n",
    "            conv = nn.Conv2d(in_channels=layer[0], out_channels=layer[1], kernel_size=layer[2], \n",
    "                             stride= layer[3], padding=layer[4])\n",
    "            maxpool = nn.MaxPool2d(kernel_size=layer[5])\n",
    "            \n",
    "            #Adding the components o fhte layers (convolution, activation, maxpooling) to self.Conv\n",
    "            self.Conv.append(conv)\n",
    "            if BatchNorm: \n",
    "                self.Conv.append(nn.BatchNorm2d(layer[1]))\n",
    "            self.Conv.append(nn.ReLU())\n",
    "            self.Conv.append(maxpool)\n",
    "            \n",
    "        #Building Fully connected layers\n",
    "        L = len(FC_Layers)\n",
    "        for i in range(L-1):\n",
    "            input_size = FC_Layers[i]\n",
    "            output_size = FC_Layers[i+1]\n",
    "            self.FC.append(nn.Linear(input_size, output_size))\n",
    "            if BatchNorm:\n",
    "                self.FC.append(nn.BatchNorm1d(output_size))\n",
    "            if i < L-2:\n",
    "                self.FC.append(nn.ReLU())\n",
    "            \n",
    "    #Prediction\n",
    "    def forward(self, x):\n",
    "        #Convolutional layers:\n",
    "        for module in self.Conv:\n",
    "            x = module(x)\n",
    "            \n",
    "        #Flattening\n",
    "        x = x.view(x.size(0), -1)\n",
    "       \n",
    "        #Fully connected layers\n",
    "        for transform in self.FC:\n",
    "            x = transform(x)\n",
    "        return x"
   ]
  },
  {
   "cell_type": "markdown",
   "metadata": {},
   "source": [
    " # 3. Training the model <a class=\"anchor\" id=\"Section3\"></a>"
   ]
  },
  {
   "cell_type": "markdown",
   "metadata": {},
   "source": [
    "Function to train the model"
   ]
  },
  {
   "cell_type": "code",
   "execution_count": 18,
   "metadata": {},
   "outputs": [],
   "source": [
    "def train_model(model, train_loader, validation_loader, optimizer, criterion=nn.CrossEntropyLoss(), n_epochs=4):\n",
    "    #global variable \n",
    "    N_test=len(validation_set)\n",
    "    \n",
    "    accuracy_list=[]\n",
    "    loss_list=[]\n",
    "    \n",
    "    for epoch in range(n_epochs):\n",
    "        #Training\n",
    "        COST = 0\n",
    "        model.train()   #batch normalization in training mode\n",
    "        for x, y in train_loader:\n",
    "            x, y = x.to(device), y.to(device)\n",
    "            optimizer.zero_grad()\n",
    "            z = model(x)\n",
    "            loss = criterion(z, y)\n",
    "            loss.backward()\n",
    "            optimizer.step()\n",
    "            COST += loss.data\n",
    "        loss_list.append(COST)\n",
    "        \n",
    "        #Validating\n",
    "        correct=0\n",
    "        model.eval()    #batch normalization in validation mode\n",
    "        for x_test, y_test in validation_loader:\n",
    "            z = model(x_test)\n",
    "            _, yhat = torch.max(z.data, 1)\n",
    "            correct += (yhat == y_test).sum().item()\n",
    "        accuracy = correct / N_test\n",
    "        accuracy_list.append(accuracy)\n",
    "     \n",
    "    return accuracy_list, loss_list"
   ]
  },
  {
   "cell_type": "markdown",
   "metadata": {},
   "source": [
    "We will now do a grid search looking for good parameters of the convolution kernel_size in the model and for the momentum parameter in the GD algorithm. \n",
    "\n",
    "We will always use 2 convolutional layers and one fully connected layer. The general configuration is as follows:\n",
    "\n",
    "* 1st convolutional layer: [in_channels = 1, out_channels = 16, convolution_kernel_size = 2*n+1, stride= 1, padding = n, maxpool__kernel_size =2]\n",
    "* 1st convolutional layer: [in_channels = 16, out_channels = 32, convolution_kernel_size = 2*n+1, stride= 1, padding = n, maxpool__kernel_size =2]\n",
    "* Fully connected layer: [32 * 7 * 7,10]\n",
    "\n",
    "Let's now define the fnction for grid search\n"
   ]
  },
  {
   "cell_type": "code",
   "execution_count": 19,
   "metadata": {},
   "outputs": [],
   "source": [
    "def GridSearch(ker_size_list = [5], momentum_list = [0]):\n",
    "    Results = {}\n",
    "    Best_accuracy = 0\n",
    "    Best_model = None\n",
    "    Best_parameters = {'kernel_size': None, 'momentum': None}\n",
    "    \n",
    "    for k in ker_size_list:\n",
    "        for momentum in momentum_list:\n",
    "            model = CNN_BatchNorm([[1,16,2*k+1,1,k,2], [16,32,2*k+1,1,k,2]], [32*7*7,10], BatchNorm = True)\n",
    "            model.to(device)\n",
    "            learning_rate = 0.10\n",
    "            optimizer = torch.optim.SGD(model.parameters(), lr=learning_rate, momentum=momentum)\n",
    "            Results[\"K_\"+str(k)+\" & M_\"+str(momentum)] = train_model(model=model, train_loader=train_loader,\n",
    "                                                                   validation_loader=validation_loader, \n",
    "                                                                   optimizer=optimizer, n_epochs=n_epochs)\n",
    "            if Best_accuracy < Results[\"K_\"+str(k)+\" & M_\"+str(momentum)][0][n_epochs-1]: \n",
    "                Best_accuracy = Results[\"K_\"+str(k)+\" & M_\"+str(momentum)][0][n_epochs-1]\n",
    "                Best_model = model\n",
    "                Best_parameters['kernel_size'] = k\n",
    "                Best_parameters['momentum'] = momentum\n",
    "    \n",
    "    return Best_accuracy, Best_parameters, Best_model, Results"
   ]
  },
  {
   "cell_type": "markdown",
   "metadata": {},
   "source": [
    "Loss function and data loaders"
   ]
  },
  {
   "cell_type": "code",
   "execution_count": 20,
   "metadata": {},
   "outputs": [],
   "source": [
    "criterion = nn.CrossEntropyLoss()\n",
    "n_epochs=30\n",
    "train_loader = torch.utils.data.DataLoader(dataset=train_set, batch_size=100)\n",
    "validation_loader = torch.utils.data.DataLoader(dataset=validation_set, batch_size=5000)"
   ]
  },
  {
   "cell_type": "markdown",
   "metadata": {},
   "source": [
    "GridSearch"
   ]
  },
  {
   "cell_type": "code",
   "execution_count": 21,
   "metadata": {},
   "outputs": [
    {
     "name": "stdout",
     "output_type": "stream",
     "text": [
      "CPU times: user 2h 16min 34s, sys: 7min 15s, total: 2h 23min 50s\n",
      "Wall time: 1h 55min 5s\n"
     ]
    }
   ],
   "source": [
    "%%time\n",
    "ker_size_list = [5, 6]\n",
    "momentum_list = [0.0, 0.5, 0.8]\n",
    "\n",
    "Best_accuracy, Best_parameters, Best_model, Results = GridSearch(ker_size_list = ker_size_list,\n",
    "                                                               momentum_list = momentum_list)"
   ]
  },
  {
   "cell_type": "code",
   "execution_count": 22,
   "metadata": {},
   "outputs": [
    {
     "name": "stdout",
     "output_type": "stream",
     "text": [
      "Best accuracy:  0.9923809523809524\n",
      "Best parameters:  {'kernel_size': 6, 'momentum': 0.5}\n",
      "Best model: \n",
      " {'kernel_size': 6, 'momentum': 0.5}\n"
     ]
    }
   ],
   "source": [
    "print('Best accuracy: ', Best_accuracy)\n",
    "print('Best parameters: ', Best_parameters)\n",
    "print('Best model: \\n', Best_parameters)"
   ]
  },
  {
   "cell_type": "markdown",
   "metadata": {},
   "source": [
    " # 4. Analizing results <a class=\"anchor\" id=\"Section4\"></a>"
   ]
  },
  {
   "cell_type": "code",
   "execution_count": 23,
   "metadata": {},
   "outputs": [
    {
     "data": {
      "image/png": "[encoded data removed]",
      "text/plain": [
       "<Figure size 432x288 with 1 Axes>"
      ]
     },
     "metadata": {
      "needs_background": "light"
     },
     "output_type": "display_data"
    }
   ],
   "source": [
    "# Plot the Loss result for each term\n",
    "\n",
    "for key, value in Results.items():\n",
    "    plt.plot(value[1],label=key)\n",
    "    plt.legend()\n",
    "    plt.xlabel('epoch')\n",
    "    plt.ylabel('Total Loss or Cost')"
   ]
  },
  {
   "cell_type": "code",
   "execution_count": 24,
   "metadata": {},
   "outputs": [
    {
     "data": {
      "image/png": "[encoded data removed]",
      "text/plain": [
       "<Figure size 432x288 with 1 Axes>"
      ]
     },
     "metadata": {
      "needs_background": "light"
     },
     "output_type": "display_data"
    }
   ],
   "source": [
    "# Plot the Loss result for each term\n",
    "\n",
    "for key, value in Results.items():\n",
    "    plt.plot(value[0],label=key)\n",
    "    plt.legend()\n",
    "    plt.xlabel('epoch')\n",
    "    plt.ylabel('Accuracy or Cost')"
   ]
  },
  {
   "cell_type": "code",
   "execution_count": 25,
   "metadata": {},
   "outputs": [
    {
     "data": {
      "image/png": "[encoded data removed]",
      "text/plain": [
       "<Figure size 432x288 with 1 Axes>"
      ]
     },
     "metadata": {
      "needs_background": "light"
     },
     "output_type": "display_data"
    },
    {
     "name": "stdout",
     "output_type": "stream",
     "text": [
      "yhat:  tensor([6])\n"
     ]
    },
    {
     "data": {
      "image/png": "[encoded data removed]",
      "text/plain": [
       "<Figure size 432x288 with 1 Axes>"
      ]
     },
     "metadata": {
      "needs_background": "light"
     },
     "output_type": "display_data"
    },
    {
     "name": "stdout",
     "output_type": "stream",
     "text": [
      "yhat:  tensor([7])\n"
     ]
    },
    {
     "data": {
      "image/png": "[encoded data removed]",
      "text/plain": [
       "<Figure size 432x288 with 1 Axes>"
      ]
     },
     "metadata": {
      "needs_background": "light"
     },
     "output_type": "display_data"
    },
    {
     "name": "stdout",
     "output_type": "stream",
     "text": [
      "yhat:  tensor([7])\n"
     ]
    },
    {
     "data": {
      "image/png": "[encoded data removed]",
      "text/plain": [
       "<Figure size 432x288 with 1 Axes>"
      ]
     },
     "metadata": {
      "needs_background": "light"
     },
     "output_type": "display_data"
    },
    {
     "name": "stdout",
     "output_type": "stream",
     "text": [
      "yhat:  tensor([5])\n"
     ]
    },
    {
     "data": {
      "image/png": "[encoded data removed]",
      "text/plain": [
       "<Figure size 432x288 with 1 Axes>"
      ]
     },
     "metadata": {
      "needs_background": "light"
     },
     "output_type": "display_data"
    },
    {
     "name": "stdout",
     "output_type": "stream",
     "text": [
      "yhat:  tensor([6])\n"
     ]
    }
   ],
   "source": [
    "# Plot the mis-classified samples\n",
    "\n",
    "count = 0\n",
    "for x, y in torch.utils.data.DataLoader(dataset=validation_set, batch_size=1):\n",
    "    z = Best_model(x)\n",
    "    _, yhat = torch.max(z, 1)\n",
    "    if yhat != y:\n",
    "        show_data((x, y))\n",
    "        plt.show()\n",
    "        print(\"yhat: \",yhat)\n",
    "        count += 1\n",
    "    if count >= 5:\n",
    "        break  "
   ]
  },
  {
   "cell_type": "markdown",
   "metadata": {},
   "source": [
    " # 5. Predictions on the test set <a class=\"anchor\" id=\"Section5\"></a>"
   ]
  },
  {
   "cell_type": "code",
   "execution_count": 26,
   "metadata": {},
   "outputs": [
    {
     "data": {
      "text/plain": [
       "tensor([2, 0, 9,  ..., 3, 9, 2])"
      ]
     },
     "execution_count": 26,
     "metadata": {},
     "output_type": "execute_result"
    }
   ],
   "source": [
    "#Test set \n",
    "X_test = df_test.to_numpy() / 255\n",
    "\n",
    "X_test = torch.from_numpy(X_test).type(torch.FloatTensor).view(-1,1,28,28)\n",
    "z = Best_model(X_test)\n",
    "_, yhat_test = torch.max(z, 1)\n",
    "yhat_test"
   ]
  },
  {
   "cell_type": "code",
   "execution_count": 29,
   "metadata": {},
   "outputs": [
    {
     "data": {
      "text/plain": [
       "0.9911785714285715"
      ]
     },
     "execution_count": 29,
     "metadata": {},
     "output_type": "execute_result"
    }
   ],
   "source": [
    "\n",
    "path_test_labels = 'test_labels.csv'\n",
    "df_test_lables = pd.read_csv(path_test_labels)\n",
    "y_test = torch.from_numpy(df_test_lables['Label'].to_numpy())\n",
    "correct = (yhat_test == y_test).sum().item()\n",
    "N_test = yhat_test.size()[0]\n",
    "accuracy = correct / N_test\n",
    "accuracy"
   ]
  }
 ],
 "metadata": {
  "kernelspec": {
   "display_name": "Python 3",
   "language": "python",
   "name": "python3"
  },
  "language_info": {
   "codemirror_mode": {
    "name": "ipython",
    "version": 3
   },
   "file_extension": ".py",
   "mimetype": "text/x-python",
   "name": "python",
   "nbconvert_exporter": "python",
   "pygments_lexer": "ipython3",
   "version": "3.7.6"
  }
 },
 "nbformat": 4,
 "nbformat_minor": 4
}
